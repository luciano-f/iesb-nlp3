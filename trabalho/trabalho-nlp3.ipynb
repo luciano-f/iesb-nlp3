{
 "cells": [
  {
   "cell_type": "markdown",
   "id": "4ae18677-4357-4960-b0b5-83251a0545a2",
   "metadata": {},
   "source": [
    "# Computação Cognitiva 3\n",
    "## Trabalho de avaliação da discplina\n",
    "## Agosto 2021\n",
    "## Pós Graduação em Inteligência Artificial - IANB - 2020"
   ]
  },
  {
   "cell_type": "markdown",
   "id": "eb745756-7caf-482f-94e8-31a6a726c44e",
   "metadata": {},
   "source": [
    "### Explicação"
   ]
  },
  {
   "cell_type": "markdown",
   "id": "d8aecef1-dfde-4ec0-b9c5-5b43c9cdb178",
   "metadata": {},
   "source": [
    "O trabalho consiste de testar diferentes classificadores em uma base de sentimento de tweets já anotada (Sentiment140). Especificamente, pedem-se dois classificadores clássicos e um classificador utilizando deep learning."
   ]
  },
  {
   "cell_type": "code",
   "execution_count": 29,
   "id": "2ba75c1f-36d4-4532-b746-e73114d89090",
   "metadata": {},
   "outputs": [
    {
     "ename": "ImportError",
     "evalue": "cannot import name 'CategoricalCrossEntropy' from 'tensorflow.keras.losses' (/home/blue/iesb_venv/lib/python3.8/site-packages/keras/api/_v2/keras/losses/__init__.py)",
     "output_type": "error",
     "traceback": [
      "\u001b[0;31m---------------------------------------------------------------------------\u001b[0m",
      "\u001b[0;31mImportError\u001b[0m                               Traceback (most recent call last)",
      "\u001b[0;32m<ipython-input-29-40bb1a75a643>\u001b[0m in \u001b[0;36m<module>\u001b[0;34m\u001b[0m\n\u001b[1;32m     26\u001b[0m \u001b[0;34m\u001b[0m\u001b[0m\n\u001b[1;32m     27\u001b[0m \u001b[0;32mfrom\u001b[0m \u001b[0mtensorflow\u001b[0m\u001b[0;34m.\u001b[0m\u001b[0mkeras\u001b[0m\u001b[0;34m.\u001b[0m\u001b[0mmodels\u001b[0m \u001b[0;32mimport\u001b[0m \u001b[0mSequential\u001b[0m\u001b[0;34m,\u001b[0m \u001b[0mModel\u001b[0m\u001b[0;34m\u001b[0m\u001b[0;34m\u001b[0m\u001b[0m\n\u001b[0;32m---> 28\u001b[0;31m \u001b[0;32mfrom\u001b[0m \u001b[0mtensorflow\u001b[0m\u001b[0;34m.\u001b[0m\u001b[0mkeras\u001b[0m\u001b[0;34m.\u001b[0m\u001b[0mlosses\u001b[0m \u001b[0;32mimport\u001b[0m \u001b[0mBinaryCrossentropy\u001b[0m\u001b[0;34m,\u001b[0m \u001b[0mCategoricalCrossEntropy\u001b[0m\u001b[0;34m\u001b[0m\u001b[0;34m\u001b[0m\u001b[0m\n\u001b[0m\u001b[1;32m     29\u001b[0m \u001b[0;32mfrom\u001b[0m \u001b[0mtensorflow\u001b[0m\u001b[0;34m.\u001b[0m\u001b[0mkeras\u001b[0m\u001b[0;34m.\u001b[0m\u001b[0mpreprocessing\u001b[0m\u001b[0;34m.\u001b[0m\u001b[0mtext\u001b[0m \u001b[0;32mimport\u001b[0m \u001b[0mTokenizer\u001b[0m\u001b[0;34m\u001b[0m\u001b[0;34m\u001b[0m\u001b[0m\n\u001b[1;32m     30\u001b[0m \u001b[0;32mfrom\u001b[0m \u001b[0mtensorflow\u001b[0m\u001b[0;34m.\u001b[0m\u001b[0mkeras\u001b[0m\u001b[0;34m.\u001b[0m\u001b[0mpreprocessing\u001b[0m\u001b[0;34m.\u001b[0m\u001b[0msequence\u001b[0m \u001b[0;32mimport\u001b[0m \u001b[0mpad_sequences\u001b[0m\u001b[0;34m\u001b[0m\u001b[0;34m\u001b[0m\u001b[0m\n",
      "\u001b[0;31mImportError\u001b[0m: cannot import name 'CategoricalCrossEntropy' from 'tensorflow.keras.losses' (/home/blue/iesb_venv/lib/python3.8/site-packages/keras/api/_v2/keras/losses/__init__.py)"
     ]
    }
   ],
   "source": [
    "import re\n",
    "import copy\n",
    "import numpy as np\n",
    "import pandas as pd\n",
    "import seaborn as sns\n",
    "import matplotlib.pyplot as plt\n",
    "\n",
    "from html import unescape\n",
    "\n",
    "from math import floor\n",
    "\n",
    "import gensim\n",
    "from gensim.models import Word2Vec\n",
    "\n",
    "from nltk.tag import pos_tag\n",
    "from nltk.corpus import wordnet\n",
    "from nltk.tokenize import word_tokenize, sent_tokenize\n",
    "from nltk.stem import WordNetLemmatizer\n",
    "\n",
    "from sklearn.svm import SVC\n",
    "from sklearn.tree import DecisionTreeClassifier\n",
    "from sklearn.neural_network import MLPClassifier\n",
    "from sklearn.model_selection import train_test_split\n",
    "from sklearn.feature_extraction.text import TfidfVectorizer\n",
    "from sklearn.metrics import accuracy_score, precision_score, recall_score, f1_score\n",
    "\n",
    "from tensorflow.keras.models import Sequential, Model\n",
    "from tensorflow.keras.losses import BinaryCrossentropy\n",
    "from tensorflow.keras.preprocessing.text import Tokenizer\n",
    "from tensorflow.keras.preprocessing.sequence import pad_sequences\n",
    "from tensorflow.keras.callbacks import EarlyStopping, ModelCheckpoint\n",
    "from tensorflow.keras.layers import Dense, Input, Conv1D, MaxPooling1D, Flatten, Dropout, LSTM\n",
    "\n",
    "from string import punctuation, whitespace\n"
   ]
  },
  {
   "cell_type": "markdown",
   "id": "97c2ce57-822b-44d5-ac2a-610793863739",
   "metadata": {},
   "source": [
    "### Análise Exploratória"
   ]
  },
  {
   "cell_type": "code",
   "execution_count": 2,
   "id": "2e8186a8-cdfb-4778-a214-83fae2e7f2aa",
   "metadata": {},
   "outputs": [
    {
     "data": {
      "text/html": [
       "<div>\n",
       "<style scoped>\n",
       "    .dataframe tbody tr th:only-of-type {\n",
       "        vertical-align: middle;\n",
       "    }\n",
       "\n",
       "    .dataframe tbody tr th {\n",
       "        vertical-align: top;\n",
       "    }\n",
       "\n",
       "    .dataframe thead th {\n",
       "        text-align: right;\n",
       "    }\n",
       "</style>\n",
       "<table border=\"1\" class=\"dataframe\">\n",
       "  <thead>\n",
       "    <tr style=\"text-align: right;\">\n",
       "      <th></th>\n",
       "      <th>0</th>\n",
       "      <th>1</th>\n",
       "      <th>2</th>\n",
       "      <th>3</th>\n",
       "      <th>4</th>\n",
       "      <th>5</th>\n",
       "    </tr>\n",
       "  </thead>\n",
       "  <tbody>\n",
       "    <tr>\n",
       "      <th>0</th>\n",
       "      <td>0</td>\n",
       "      <td>1467810369</td>\n",
       "      <td>Mon Apr 06 22:19:45 PDT 2009</td>\n",
       "      <td>NO_QUERY</td>\n",
       "      <td>_TheSpecialOne_</td>\n",
       "      <td>@switchfoot http://twitpic.com/2y1zl - Awww, t...</td>\n",
       "    </tr>\n",
       "    <tr>\n",
       "      <th>1</th>\n",
       "      <td>0</td>\n",
       "      <td>1467810672</td>\n",
       "      <td>Mon Apr 06 22:19:49 PDT 2009</td>\n",
       "      <td>NO_QUERY</td>\n",
       "      <td>scotthamilton</td>\n",
       "      <td>is upset that he can't update his Facebook by ...</td>\n",
       "    </tr>\n",
       "    <tr>\n",
       "      <th>2</th>\n",
       "      <td>0</td>\n",
       "      <td>1467810917</td>\n",
       "      <td>Mon Apr 06 22:19:53 PDT 2009</td>\n",
       "      <td>NO_QUERY</td>\n",
       "      <td>mattycus</td>\n",
       "      <td>@Kenichan I dived many times for the ball. Man...</td>\n",
       "    </tr>\n",
       "    <tr>\n",
       "      <th>3</th>\n",
       "      <td>0</td>\n",
       "      <td>1467811184</td>\n",
       "      <td>Mon Apr 06 22:19:57 PDT 2009</td>\n",
       "      <td>NO_QUERY</td>\n",
       "      <td>ElleCTF</td>\n",
       "      <td>my whole body feels itchy and like its on fire</td>\n",
       "    </tr>\n",
       "    <tr>\n",
       "      <th>4</th>\n",
       "      <td>0</td>\n",
       "      <td>1467811193</td>\n",
       "      <td>Mon Apr 06 22:19:57 PDT 2009</td>\n",
       "      <td>NO_QUERY</td>\n",
       "      <td>Karoli</td>\n",
       "      <td>@nationwideclass no, it's not behaving at all....</td>\n",
       "    </tr>\n",
       "  </tbody>\n",
       "</table>\n",
       "</div>"
      ],
      "text/plain": [
       "   0           1                             2         3                4  \\\n",
       "0  0  1467810369  Mon Apr 06 22:19:45 PDT 2009  NO_QUERY  _TheSpecialOne_   \n",
       "1  0  1467810672  Mon Apr 06 22:19:49 PDT 2009  NO_QUERY    scotthamilton   \n",
       "2  0  1467810917  Mon Apr 06 22:19:53 PDT 2009  NO_QUERY         mattycus   \n",
       "3  0  1467811184  Mon Apr 06 22:19:57 PDT 2009  NO_QUERY          ElleCTF   \n",
       "4  0  1467811193  Mon Apr 06 22:19:57 PDT 2009  NO_QUERY           Karoli   \n",
       "\n",
       "                                                   5  \n",
       "0  @switchfoot http://twitpic.com/2y1zl - Awww, t...  \n",
       "1  is upset that he can't update his Facebook by ...  \n",
       "2  @Kenichan I dived many times for the ball. Man...  \n",
       "3    my whole body feels itchy and like its on fire   \n",
       "4  @nationwideclass no, it's not behaving at all....  "
      ]
     },
     "execution_count": 2,
     "metadata": {},
     "output_type": "execute_result"
    }
   ],
   "source": [
    "tweets = pd.read_csv('training.1600000.processed.noemoticon.csv', header=None, encoding='latin1')\n",
    "column_names = ['sentimento', 'tweet_id', 'datetime', 'query', 'text']\n",
    "\n",
    "tweets.head()"
   ]
  },
  {
   "cell_type": "code",
   "execution_count": 3,
   "id": "b91e9d2b-4961-44d4-a8ac-c8e5a983d443",
   "metadata": {},
   "outputs": [
    {
     "data": {
      "image/png": "[encoded data removed]",
      "text/plain": [
       "<Figure size 432x288 with 1 Axes>"
      ]
     },
     "metadata": {
      "needs_background": "light"
     },
     "output_type": "display_data"
    }
   ],
   "source": [
    "# Tweets únicos\n",
    "len(tweets[1]) - len(tweets[1].unique())\n",
    "# Percebe-se que há 1685 tweets com mesmo identificador\n",
    "# Para não gerar ambiguidades na classificação, os ids duplicados foram removidos da base\n",
    "tweets = tweets[~tweets.duplicated(subset=[1])].copy()\n",
    "# Remove as duplicatas\n",
    "\n",
    "# Sentimentos anotados\n",
    "sns.histplot(tweets[0])\n",
    "plt.show()"
   ]
  },
  {
   "cell_type": "markdown",
   "id": "37f759e7-c902-4875-91e5-ad3881b5e276",
   "metadata": {},
   "source": [
    "Percebe-se que os dados estão balanceados em aproximadamente 800.000 amostras de tweets negativos (0) e positivos (4)"
   ]
  },
  {
   "cell_type": "code",
   "execution_count": 4,
   "id": "12325354-3d89-46af-ad7b-079081604122",
   "metadata": {},
   "outputs": [
    {
     "data": {
      "text/plain": [
       "array(['NO_QUERY'], dtype=object)"
      ]
     },
     "execution_count": 4,
     "metadata": {},
     "output_type": "execute_result"
    }
   ],
   "source": [
    "# Tipo de query\n",
    "tweets[3].unique()\n"
   ]
  },
  {
   "cell_type": "markdown",
   "id": "41b9915f-66fe-45a5-823e-41ada25a1d5a",
   "metadata": {},
   "source": [
    "Todos os tweets na base advem de uma coleta sem query específica. Isso é menos um elemento de potencial viés para base"
   ]
  },
  {
   "cell_type": "code",
   "execution_count": 5,
   "id": "66971963-e1d9-4ec0-a6dd-3158b7b49d22",
   "metadata": {},
   "outputs": [
    {
     "data": {
      "image/png": "[encoded data removed]",
      "text/plain": [
       "<Figure size 432x288 with 1 Axes>"
      ]
     },
     "metadata": {
      "needs_background": "light"
     },
     "output_type": "display_data"
    }
   ],
   "source": [
    "# Usuários\n",
    "plot_data = tweets[4].value_counts()\n",
    "plot_data = plot_data.sample(2500)\n",
    "query = sns.scatterplot(data=plot_data, x=plot_data.index, y=plot_data)\n",
    "query.set(xlabel=None)\n",
    "plt.show()"
   ]
  },
  {
   "cell_type": "markdown",
   "id": "cb56c75a-af1b-4b66-9d5e-3d7d5e43f634",
   "metadata": {},
   "source": [
    "Ainda que não tenha sido possível plotar todos os usuários, não parece haver uma concentração anormal de tweets\n",
    "em determinados usuários, sabendo que não há queries específicas e o conhecendo o funcionamento da API, é possível\n",
    "assumir qua não há viés relacionado à coleta concentrada em determinados usuarios"
   ]
  },
  {
   "cell_type": "code",
   "execution_count": 6,
   "id": "875a6807-66d0-434f-a84b-d57a631c5c7a",
   "metadata": {},
   "outputs": [
    {
     "name": "stderr",
     "output_type": "stream",
     "text": [
      "/home/blue/iesb_venv/lib/python3.8/site-packages/dateutil/parser/_parser.py:1213: UnknownTimezoneWarning: tzname PDT identified but not understood.  Pass `tzinfos` argument in order to correctly return a timezone-aware datetime.  In a future version, this will raise an exception.\n",
      "  warnings.warn(\"tzname {tzname} identified but not understood.  \"\n"
     ]
    },
    {
     "data": {
      "image/png": "[encoded data removed]",
      "text/plain": [
       "<Figure size 432x288 with 1 Axes>"
      ]
     },
     "metadata": {
      "needs_background": "light"
     },
     "output_type": "display_data"
    }
   ],
   "source": [
    "# Tempo\n",
    "plot_data = tweets[2].sample(100000)\n",
    "plot_data = pd.to_datetime(plot_data).value_counts()\n",
    "sns.scatterplot(data=plot_data, x=plot_data.index, y=plot_data)\n",
    "plt.show()"
   ]
  },
  {
   "cell_type": "markdown",
   "id": "d1ac3d52-1ac9-42be-97a8-efd88ecd777b",
   "metadata": {},
   "source": [
    "Os tweets referem-se a publicações entre abril e junho de 2009. Em função do grande número de pontos a plotar, foram amostrados 100.000"
   ]
  },
  {
   "cell_type": "code",
   "execution_count": 7,
   "id": "c5b7ee01-56f0-4c3c-acd6-4370a282157e",
   "metadata": {},
   "outputs": [
    {
     "name": "stderr",
     "output_type": "stream",
     "text": [
      "/home/blue/iesb_venv/lib/python3.8/site-packages/seaborn/_decorators.py:36: FutureWarning: Pass the following variable as a keyword arg: x. From version 0.12, the only valid positional argument will be `data`, and passing other arguments without an explicit keyword will result in an error or misinterpretation.\n",
      "  warnings.warn(\n"
     ]
    },
    {
     "data": {
      "image/png": "[encoded data removed]",
      "text/plain": [
       "<Figure size 432x288 with 1 Axes>"
      ]
     },
     "metadata": {
      "needs_background": "light"
     },
     "output_type": "display_data"
    }
   ],
   "source": [
    "# Tamanho dos tweets\n",
    "# Importante para a tokenização\n",
    "split_tweets = [tweet.split() for tweet in tweets[5].values]\n",
    "word_count = [len(tweet) for tweet in split_tweets]\n",
    "word_count\n",
    "\n",
    "plot = sns.boxplot(word_count)\n",
    "plt.show()"
   ]
  },
  {
   "cell_type": "markdown",
   "id": "9fed99e0-59bf-4607-8892-3a9345d1fdb3",
   "metadata": {},
   "source": [
    "Apenas outliers entre os tweets têm mais de 40 palavras. Essa informação é importante para decidir o tamanho máximo de modelos de deep learning sequenciais que precisem de crop ou padding no tamanho textual."
   ]
  },
  {
   "cell_type": "code",
   "execution_count": 8,
   "id": "62f2a555-17e3-404f-91d8-f3c519a38e3b",
   "metadata": {},
   "outputs": [],
   "source": [
    "del tweets"
   ]
  },
  {
   "cell_type": "markdown",
   "id": "7f4d8c16-9520-441c-a7a8-fb9fbcacc00d",
   "metadata": {},
   "source": [
    "### Modelos de classificação"
   ]
  },
  {
   "cell_type": "markdown",
   "id": "7e187f5b-3872-4777-878d-f990d1701a6b",
   "metadata": {},
   "source": [
    "Para o pré-processamento, adotaram-se os seguintes passos:\n",
    "* Remoção de urls\n",
    "    * por se entender que se tratam de ruídos no que tange a classificação de sentimento\n",
    "* Remoção de menções\n",
    "    * por se entender que se tratam de ruídos no que tange a classificação de sentimento\n",
    "* Remoção de hashtags\n",
    "    * por se entender que se tratam de ruídos no que tange a classificação de sentimento\n",
    "* Conversão de caracteres html escapados para caracteres legíveis\n",
    "    * Alguns tweets mantinham a formatação de escape em html\n",
    "* Remoção de stopwords\n",
    "    * Para diminuição da dimensionalidade e remoção de ruído\n",
    "* Conversão a caixa baixa\n",
    "    * Para não se gerarem tokens da mesma palavra diferentes apenas pela capitalização\n",
    "* Lematização dos termos\n",
    "    * Para diminuição da dimensionalidade e remocação de ruído\n",
    "\n",
    "Caracteres de pontuação não foram removidos uma vez que alguns tweets contavam com emoticons que podem ser usados para auxiliar a classificação.\n",
    "\n",
    "Para vetorizar o espaço, adotou-se inicialmente a vetorização por TF-IDF\n",
    "\n",
    "Como modelos clássicos, foram adotados classificadores:\n",
    "* `DecisionTree`\n",
    "* `SVM`\n",
    "\n",
    "Como modelo de deep learning, foi adotada uma rede recorrente `LSTM` com uma única entrada, corresponde ao vetor TF-IDF do documento. Essa abordagem, entretanto, não faz uso da capacidade da camada LSTM de ponderar a sequência de termos, uma vez que a vetorização TF-IDF em um vetor unidmensional descarta essa informação"
   ]
  },
  {
   "cell_type": "markdown",
   "id": "f32c5f58-8023-4402-b540-0c254d694476",
   "metadata": {},
   "source": [
    "#### Variáveis do ambiente"
   ]
  },
  {
   "cell_type": "code",
   "execution_count": 9,
   "id": "12396492-8b24-494d-8f0b-7a1f946063db",
   "metadata": {},
   "outputs": [],
   "source": [
    "tweets = pd.read_csv('training.1600000.processed.noemoticon.csv', header=None, encoding='latin1')\n",
    "tweets = tweets[~tweets.duplicated(subset=[1], keep=False)].copy()\n",
    "\n",
    "# Separa as colunas de interesse\n",
    "y_orig = tweets[0]\n",
    "X_orig = tweets[5]\n",
    "\n",
    "del tweets\n",
    "\n",
    "# Padrões regex para pré-Processamento\n",
    "padroes = {\n",
    "    'mencao': re.compile(r'(@[A-Za-z0-9_]{1,15}:?)'),\n",
    "    'hashtag': re.compile(r'(#[A-Za-z0-9_])'),\n",
    "    'urls': re.compile(r'http[s]?://(?:[a-zA-Z]|[0-9]|[$-_@.&+]|[!*\\(\\),]|(?:%[0-9a-fA-F][0-9a-fA-F]))+'),\n",
    "    'punct': re.compile(f'\\w+([{punctuation}]+)[{whitespace}]'),\n",
    "}\n",
    "\n",
    "# Remove do texto pedações de strings que se encaixem em um padrão regex fornecido\n",
    "def limpar_padrao(texto: str, padrao: re.Pattern):\n",
    "    return padrao.sub('', texto)\n",
    "\n",
    "# Sequência de pré-processamento padrão para os modelos clássicos\n",
    "def sequencia_pre_processamento(input_data):\n",
    "    out = [limpar_padrao(x, padroes['mencao']) for x in input_data]\n",
    "    out = [limpar_padrao(x, padroes['hashtag']) for x in out]\n",
    "    out = [limpar_padrao(x, padroes['urls']) for x in out]\n",
    "    # Apesar de emojis terem sido removidos, ainda há alguns emoticos, talvez n valha a pena retirar pontuação\n",
    "    # out = [limpar_padrao(x, padroes['punct']) for x in out]\n",
    "    out = [x.lower() for x in out]\n",
    "    out = [x.strip() for x in out]\n",
    "\n",
    "    # reparseia entidades html: e.g: &gt >;\n",
    "    out = [unescape(x) for x in out]\n",
    "\n",
    "    return out\n",
    "\n",
    "\n",
    "def lematizar(input_data):\n",
    "\n",
    "    def get_wordnet_pos(treebank_tag):\n",
    "        # https://stackoverflow.com/questions/15586721/wordnet-lemmatization-and-pos-tagging-in-python\n",
    "        if treebank_tag.startswith('J'):\n",
    "            return wordnet.ADJ\n",
    "        elif treebank_tag.startswith('V'):\n",
    "            return wordnet.VERB\n",
    "        elif treebank_tag.startswith('N'):\n",
    "            return wordnet.NOUN\n",
    "        elif treebank_tag.startswith('R'):\n",
    "            return wordnet.ADV\n",
    "        else:\n",
    "            return wordnet.ADV\n",
    "\n",
    "    wnl = WordNetLemmatizer()\n",
    "\n",
    "    out = [word_tokenize(tweet) for tweet in input_data]\n",
    "    out = [pos_tag(tweet) for tweet in out]\n",
    "    out = [[wnl.lemmatize(word[0], pos=get_wordnet_pos(word[1])) for word in tweet] for tweet in out]\n",
    "    out = [' '.join(tweet) for tweet in out]\n",
    "\n",
    "    return out\n",
    "\n",
    "def vetorizar(input_data):\n",
    "    vetorizador = TfidfVectorizer(stop_words='english', max_features=None)\n",
    "    vetorizador.fit(input_data)\n",
    "    out = vetorizador.transform(input_data)\n",
    "\n",
    "    return vetorizador, out\n",
    "\n",
    "# Rotina de preparação dos modelos clássicos\n",
    "def rotina_classica(m):\n",
    "    \"\"\"Rotina de configuração de uma instância que herda do método geral\"\"\"\n",
    "    # Remove caracteres, ruídos, transforma o escape html e converte tudo a caixa baixa\n",
    "    m.preprocess()\n",
    "    # Lematiza os termos\n",
    "    m.lematizar()\n",
    "    # Gera o transformador TF-IDF com stopwords em inglês com os dados de treino\n",
    "    m.gen_tfidf()\n",
    "    # Aplica a transformação aos dados de treino\n",
    "    m.transform_train()\n",
    "    # Aplica a transformação aos dados de teste\n",
    "    m.transform_test()\n",
    "    # Treina o modelo\n",
    "    m.treinar()\n",
    "    return m\n",
    "\n",
    "# Rotina de comparação de resultados dos modelos clássicos\n",
    "def gerar_indicadores(y_true, y_pred):\n",
    "    f1 = f1_score(y_true, y_pred, pos_label=4)\n",
    "    rec = recall_score(y_true, y_pred, pos_label=4)\n",
    "    pre = precision_score(y_true, y_pred, pos_label=4)\n",
    "    acc = accuracy_score(y_true, y_pred)\n",
    "\n",
    "    return acc, pre, rec, f1\n",
    "\n",
    "# Rotina para printar resultados\n",
    "def printar_indicadores(tupla):\n",
    "    \"\"\"Recebe tupla dos 4 indicadores\"\"\"\n",
    "    print(f'Acurácia:\\t{tupla[0]}')\n",
    "    print(f'Precisão:\\t{tupla[1]}')\n",
    "    print(f'Recall:\\t\\t{tupla[2]}')\n",
    "    print(f'Score F1:\\t{tupla[3]}')"
   ]
  },
  {
   "cell_type": "markdown",
   "id": "4d663109-fc8b-4454-90f3-07024d3a7622",
   "metadata": {},
   "source": [
    "#### Classe Base"
   ]
  },
  {
   "cell_type": "code",
   "execution_count": 10,
   "id": "e396b2a5-640e-4f13-9202-9430602ebb0c",
   "metadata": {},
   "outputs": [],
   "source": [
    "class MetodoGeral:\n",
    "    def __init__(self, x_set, y_set, seed=123):\n",
    "        self.X_orig = x_set\n",
    "        self.y_orig = y_set\n",
    "        self.seed = seed if seed is not None else None\n",
    "        self.split_set = None\n",
    "\n",
    "        self.X_train, self.X_test, self.y_train, self.y_test = train_test_split(\n",
    "            self.X_orig, self.y_orig, train_size=20000, test_size=2000, random_state=self.seed)\n",
    "\n",
    "        self.vetorizador = TfidfVectorizer(stop_words='english', max_features=None)\n",
    "        \n",
    "        self.clf = None\n",
    "\n",
    "    def preprocess(self):\n",
    "        self.X_train = sequencia_pre_processamento(self.X_train)\n",
    "        self.X_test = sequencia_pre_processamento(self.X_test)\n",
    "\n",
    "    def lematizar(self):\n",
    "        self.X_train = lematizar(self.X_train)\n",
    "        self.X_test = lematizar(self.X_test)\n",
    "\n",
    "    def gen_tfidf(self):\n",
    "        self.vetorizador.fit(self.X_train)\n",
    "        self.vetorizador.transform(self.X_train)\n",
    "\n",
    "    def transform_train(self):\n",
    "        self.X_train = self.vetorizador.transform(self.X_train)\n",
    "\n",
    "    def transform_test(self):\n",
    "        self.X_test = self.vetorizador.transform(self.X_test)\n",
    "\n",
    "    def treinar(self):\n",
    "        self.clf.fit(self.X_train, self.y_train)\n",
    "\n",
    "    def prever(self):\n",
    "        return self.clf.predict(self.X_test)"
   ]
  },
  {
   "cell_type": "markdown",
   "id": "6d75dc40-81cf-4c86-b050-db2e25637b63",
   "metadata": {},
   "source": [
    "#### Classificador Decision Tree"
   ]
  },
  {
   "cell_type": "markdown",
   "id": "136c01bc-cf10-484a-ae84-c97eddfd46e4",
   "metadata": {},
   "source": [
    "##### Definição"
   ]
  },
  {
   "cell_type": "code",
   "execution_count": 11,
   "id": "aa34664f-964a-4df1-b6fe-ca429454d218",
   "metadata": {},
   "outputs": [],
   "source": [
    "class Metodo1DecisionTree(MetodoGeral):\n",
    "    def __init__(self, x_set, y_set, seed=123):\n",
    "        super().__init__(x_set, y_set, seed=seed)\n",
    "\n",
    "        self.clf = DecisionTreeClassifier(random_state=self.seed)"
   ]
  },
  {
   "cell_type": "markdown",
   "id": "eaf49b5d-6ac1-4040-8362-f3c6b150fff0",
   "metadata": {},
   "source": [
    "##### Instaciamento, treino, teste e métricas"
   ]
  },
  {
   "cell_type": "code",
   "execution_count": 12,
   "id": "37019f73-65b6-423c-b737-7f87e4242f95",
   "metadata": {},
   "outputs": [],
   "source": [
    "m_dt = Metodo1DecisionTree(X_orig, y_orig)\n",
    "m_dt = rotina_classica(m_dt)\n",
    "y_pred = m_dt.prever()\n",
    "indicadores_dt = gerar_indicadores(m_dt.y_test, y_pred)"
   ]
  },
  {
   "cell_type": "markdown",
   "id": "0e1b4a5f-4e73-45f6-92ba-d2e16306efd7",
   "metadata": {},
   "source": [
    "##### Análise das métricas"
   ]
  },
  {
   "cell_type": "code",
   "execution_count": 13,
   "id": "68aa2140-3bcc-4c5c-a8b7-2d63f61313bf",
   "metadata": {},
   "outputs": [
    {
     "name": "stdout",
     "output_type": "stream",
     "text": [
      "Acurácia:\t0.6715\n",
      "Precisão:\t0.6686507936507936\n",
      "Recall:\t\t0.6760280842527583\n",
      "Score F1:\t0.6723192019950125\n"
     ]
    }
   ],
   "source": [
    "printar_indicadores(indicadores_dt)"
   ]
  },
  {
   "cell_type": "markdown",
   "id": "ca17d8bc-deb1-49e4-9dce-6c18b5f0ea85",
   "metadata": {},
   "source": [
    "#### Classificador SVM"
   ]
  },
  {
   "cell_type": "markdown",
   "id": "b0190f82-bbe7-4ce6-866c-4a289b82f6de",
   "metadata": {},
   "source": [
    "##### Definição"
   ]
  },
  {
   "cell_type": "code",
   "execution_count": 14,
   "id": "057cd374-e9b6-43e5-b3d7-f0768141f1b8",
   "metadata": {},
   "outputs": [],
   "source": [
    "class Metodo2Svm(MetodoGeral):\n",
    "    def __init__(self, x_set, y_set, seed=123):\n",
    "        super().__init__(x_set, y_set, seed=seed)\n",
    "\n",
    "        self.clf = SVC(random_state=self.seed)"
   ]
  },
  {
   "cell_type": "markdown",
   "id": "743407b3-102b-4bea-bc8a-c758e7220da3",
   "metadata": {},
   "source": [
    "##### Instanciamento, treino, teste e métricas"
   ]
  },
  {
   "cell_type": "code",
   "execution_count": 15,
   "id": "c45710ec-0d16-4c91-ba8c-754b79a2f966",
   "metadata": {},
   "outputs": [],
   "source": [
    "m_svc = Metodo2Svm(X_orig, y_orig)\n",
    "m_svc = rotina_classica(m_svc)\n",
    "y_pred = m_svc.prever()\n",
    "indicadores_svm = gerar_indicadores(m_svc.y_test, y_pred)"
   ]
  },
  {
   "cell_type": "markdown",
   "id": "0826bff2-8f1b-42e9-9f89-f067220b3279",
   "metadata": {},
   "source": [
    "##### Análise das métricas"
   ]
  },
  {
   "cell_type": "code",
   "execution_count": 16,
   "id": "c88ac572-85e2-4a48-8ceb-155a8ab10835",
   "metadata": {},
   "outputs": [
    {
     "name": "stdout",
     "output_type": "stream",
     "text": [
      "Acurácia:\t0.722\n",
      "Precisão:\t0.7138700290979632\n",
      "Recall:\t\t0.7382146439317954\n",
      "Score F1:\t0.7258382642998027\n"
     ]
    }
   ],
   "source": [
    "printar_indicadores(indicadores_svm)"
   ]
  },
  {
   "cell_type": "markdown",
   "id": "7578817c-052b-41f1-8e93-000236614b31",
   "metadata": {},
   "source": [
    "#### Classificador LSTM - TF-IDF"
   ]
  },
  {
   "cell_type": "markdown",
   "id": "9b11d33e-2dc5-45ad-822a-1048dc04fd94",
   "metadata": {},
   "source": [
    "##### Definição"
   ]
  },
  {
   "cell_type": "code",
   "execution_count": 41,
   "id": "ff11a98c-0123-422b-9310-ce9435ae124b",
   "metadata": {},
   "outputs": [],
   "source": [
    "class Metodo4NeuralNetworkKerasMLP(MetodoGeral):\n",
    "    \n",
    "    def __init__(self, x_set, y_set, seed=123):\n",
    "        super().__init__(x_set, y_set, seed=seed)\n",
    "\n",
    "        self.y_train = self.y_train/4\n",
    "        self.y_test = self.y_test /4\n",
    "\n",
    "        self.X_train, self.X_valid, self.y_train, self.y_valid = train_test_split(\n",
    "            self.X_train, self.y_train, test_size=.2, random_state=self.seed)\n",
    "\n",
    "        es = EarlyStopping(monitor='val_loss',\n",
    "                           patience=10,\n",
    "                           verbose=True,\n",
    "                           mode='auto',\n",
    "                           restore_best_weights=True)\n",
    "        mc = ModelCheckpoint(filepath='best_model.h5',\n",
    "                             monitor='val_accuracy',\n",
    "                             verbose=True,\n",
    "                             save_best_only=True,\n",
    "                             save_weights_only=False,\n",
    "                             mode='auto')\n",
    "        self.callbacks = [es, mc]\n",
    "        self.BATCH_SIZE = 128\n",
    "        self.EPOCHS = 100\n",
    "\n",
    "        self.hist = None\n",
    "\n",
    "    # def set_up_model(self): #### Método pode ser comentado no notebook, já que esse MLP não será usado\n",
    "\n",
    "    # def data_generator(self, x_set=None, y_set=None): # Método pode ser comentado no notebook, já que LSTM pede entrada diferente da MLP\n",
    "\n",
    "    def predict_gen(self):\n",
    "        iter_x = iter(copy.deepcopy(self.X_test))\n",
    "        while True:\n",
    "            # obs: esse método precisa ser chamado após X_train receber a transformação de espaço para tdidf\n",
    "            x = np.zeros((self.BATCH_SIZE, self.X_test.shape[1]))\n",
    "            for i in range(self.BATCH_SIZE):\n",
    "                try:\n",
    "                    x[i] = next(iter_x).toarray()\n",
    "                except StopIteration:\n",
    "                    return\n",
    "                yield x\n",
    "\n",
    "    def treinar(self):\n",
    "        g = self.data_generator()\n",
    "        valid = self.data_generator(self.X_valid, self.y_valid)\n",
    "        # Uso de fit_generator: https://www.pyimagesearch.com/2018/12/24/how-to-use-keras-fit-and-fit_generator-a-hands-on-tutorial/\n",
    "        self.hist = self.clf.fit_generator(g,\n",
    "                                           steps_per_epoch=floor(self.X_train.shape[0]/self.BATCH_SIZE),\n",
    "                                           epochs=self.EPOCHS,\n",
    "                                           verbose=1,\n",
    "                                           callbacks=self.callbacks,\n",
    "                                           validation_data=valid,\n",
    "                                           validation_steps=floor(self.X_train.shape[0]/self.BATCH_SIZE),\n",
    "                                           use_multiprocessing=True)\n",
    "\n",
    "    def test(self):\n",
    "        G = self.predict_gen()\n",
    "        pred = self.clf.predict(G,\n",
    "                                steps=floor(self.X_test.shape[0]/self.BATCH_SIZE))\n",
    "\n",
    "        return pred\n",
    "    \n",
    "    \n",
    "class Metodo7BagOfWordsLSTM(Metodo4NeuralNetworkKerasMLP):\n",
    "\n",
    "    def set_up_model(self):\n",
    "        \n",
    "        self.preprocess()\n",
    "        self.lematizar()\n",
    "        self.gen_tfidf()\n",
    "        self.transform_train()\n",
    "        self.transform_test()\n",
    "\n",
    "        self.X_valid = sequencia_pre_processamento(self.X_valid)\n",
    "        self.X_valid = lematizar(self.X_valid)\n",
    "        self.X_valid = self.vetorizador.transform(self.X_valid)\n",
    "\n",
    "        model = Sequential()\n",
    "        # model.add(Input(shape=(1, self.X_train.shape[1]),\n",
    "        #                name='entrada'))  # argumento sparse=True não permitiu processar matriz esparsa no treino\n",
    "        model.add(LSTM(units=256, name='1a_cr', input_shape=(1, self.X_train.shape[1])))\n",
    "        model.add(Dropout(.25))\n",
    "        model.add(Dense(units=256, activation='relu', name='1a_cd'))\n",
    "        model.add(Dropout(.25))\n",
    "        model.add(Dense(units=128, activation='relu', name='2a_cd'))\n",
    "        model.add(Dense(units=1, activation='sigmoid', name='saida'))\n",
    "\n",
    "        model.summary()\n",
    "\n",
    "        model.compile(loss=BinaryCrossentropy(),\n",
    "                      optimizer='adam',\n",
    "                      metrics=['accuracy'])\n",
    "\n",
    "        self.clf = model\n",
    "\n",
    "    def data_generator(self, x_set=None, y_set=None):\n",
    "        # Erro ao passar matriz esparsa 'SparseTensor' object is not subscriptable\n",
    "        # https://stackoverflow.com/questions/53779968/why-keras-fit-generator-load-before-actually-training\n",
    "        x_set = self.X_train if x_set is None else x_set\n",
    "        y_set = self.y_train if y_set is None else y_set\n",
    "\n",
    "        iter_x = iter(copy.deepcopy(x_set))\n",
    "        iter_y = iter(copy.deepcopy(y_set))\n",
    "        while True:\n",
    "            #obs: esse método precisa ser chamado após X_train receber a transformação de espaço para tdidf\n",
    "            x = np.zeros((self.BATCH_SIZE, 1, x_set.shape[1]))\n",
    "            y = np.zeros(self.BATCH_SIZE)\n",
    "            for i in range(self.BATCH_SIZE):\n",
    "                try:\n",
    "                    x[i] = next(iter_x).toarray()\n",
    "                    y[i] = next(iter_y)\n",
    "                except StopIteration:\n",
    "                    iter_x = iter(copy.deepcopy(x_set))\n",
    "                    iter_y = iter(copy.deepcopy(y_set))\n",
    "            yield x, y\n",
    "            \n",
    "    def predict_gen(self):\n",
    "        iter_x = iter(copy.deepcopy(self.X_test))\n",
    "        while True:\n",
    "            # obs: esse método precisa ser chamado após X_train receber a transformação de espaço para tdidf\n",
    "            x = np.zeros((self.BATCH_SIZE, 1, self.X_test.shape[1]))\n",
    "            for i in range(self.BATCH_SIZE):\n",
    "                try:\n",
    "                    x[i] = next(iter_x).toarray()\n",
    "                except StopIteration:\n",
    "                    return\n",
    "                yield x\n",
    "            \n",
    "    "
   ]
  },
  {
   "cell_type": "markdown",
   "id": "11e4689c-ee69-49f2-a03d-f12baed52b78",
   "metadata": {},
   "source": [
    "##### Instanciamento, treino, teste e métricas"
   ]
  },
  {
   "cell_type": "code",
   "execution_count": 42,
   "id": "7a7bcb79-c342-44ed-9201-0046b5e3de9e",
   "metadata": {},
   "outputs": [
    {
     "name": "stdout",
     "output_type": "stream",
     "text": [
      "Model: \"sequential_6\"\n",
      "_________________________________________________________________\n",
      "Layer (type)                 Output Shape              Param #   \n",
      "=================================================================\n",
      "1a_cr (LSTM)                 (None, 256)               16502784  \n",
      "_________________________________________________________________\n",
      "dropout_12 (Dropout)         (None, 256)               0         \n",
      "_________________________________________________________________\n",
      "1a_cd (Dense)                (None, 256)               65792     \n",
      "_________________________________________________________________\n",
      "dropout_13 (Dropout)         (None, 256)               0         \n",
      "_________________________________________________________________\n",
      "2a_cd (Dense)                (None, 128)               32896     \n",
      "_________________________________________________________________\n",
      "saida (Dense)                (None, 1)                 129       \n",
      "=================================================================\n",
      "Total params: 16,601,601\n",
      "Trainable params: 16,601,601\n",
      "Non-trainable params: 0\n",
      "_________________________________________________________________\n",
      "Epoch 1/100\n",
      "125/125 [==============================] - 17s 122ms/step - loss: 0.5887 - accuracy: 0.6905 - val_loss: 0.5250 - val_accuracy: 0.7352\n",
      "\n",
      "Epoch 00001: val_accuracy improved from -inf to 0.73525, saving model to best_model.h5\n",
      "Epoch 2/100\n",
      "125/125 [==============================] - 15s 120ms/step - loss: 0.3828 - accuracy: 0.8353 - val_loss: 0.5974 - val_accuracy: 0.7177\n",
      "\n",
      "Epoch 00002: val_accuracy did not improve from 0.73525\n",
      "Epoch 3/100\n",
      "125/125 [==============================] - 17s 139ms/step - loss: 0.2736 - accuracy: 0.8906 - val_loss: 0.7250 - val_accuracy: 0.7096\n",
      "\n",
      "Epoch 00003: val_accuracy did not improve from 0.73525\n",
      "Epoch 4/100\n",
      "125/125 [==============================] - 15s 123ms/step - loss: 0.2215 - accuracy: 0.9084 - val_loss: 0.8746 - val_accuracy: 0.7021\n",
      "\n",
      "Epoch 00004: val_accuracy did not improve from 0.73525\n",
      "Epoch 5/100\n",
      "125/125 [==============================] - 16s 126ms/step - loss: 0.1944 - accuracy: 0.9086 - val_loss: 1.0321 - val_accuracy: 0.6984\n",
      "\n",
      "Epoch 00005: val_accuracy did not improve from 0.73525\n",
      "Epoch 6/100\n",
      "125/125 [==============================] - 16s 123ms/step - loss: 0.1752 - accuracy: 0.9154 - val_loss: 1.1299 - val_accuracy: 0.6903\n",
      "\n",
      "Epoch 00006: val_accuracy did not improve from 0.73525\n",
      "Epoch 7/100\n",
      "125/125 [==============================] - 16s 129ms/step - loss: 0.1460 - accuracy: 0.9253 - val_loss: 1.2623 - val_accuracy: 0.6899\n",
      "\n",
      "Epoch 00007: val_accuracy did not improve from 0.73525\n",
      "Epoch 8/100\n",
      "125/125 [==============================] - 15s 120ms/step - loss: 0.1261 - accuracy: 0.9354 - val_loss: 1.3892 - val_accuracy: 0.6961\n",
      "\n",
      "Epoch 00008: val_accuracy did not improve from 0.73525\n",
      "Epoch 9/100\n",
      "125/125 [==============================] - 15s 119ms/step - loss: 0.1138 - accuracy: 0.9399 - val_loss: 1.5471 - val_accuracy: 0.6866\n",
      "\n",
      "Epoch 00009: val_accuracy did not improve from 0.73525\n",
      "Epoch 10/100\n",
      "125/125 [==============================] - 15s 118ms/step - loss: 0.1060 - accuracy: 0.9459 - val_loss: 1.6532 - val_accuracy: 0.6766\n",
      "\n",
      "Epoch 00010: val_accuracy did not improve from 0.73525\n",
      "Epoch 11/100\n",
      "125/125 [==============================] - 16s 125ms/step - loss: 0.0977 - accuracy: 0.9498 - val_loss: 1.7739 - val_accuracy: 0.6791\n",
      "Restoring model weights from the end of the best epoch.\n",
      "\n",
      "Epoch 00011: val_accuracy did not improve from 0.73525\n",
      "Epoch 00011: early stopping\n"
     ]
    }
   ],
   "source": [
    "m_lstm1 = Metodo7BagOfWordsLSTM(X_orig, y_orig)\n",
    "m_lstm1.set_up_model()\n",
    "m_lstm1.treinar()\n",
    "\n",
    "y_pred = m_lstm1.test()"
   ]
  },
  {
   "cell_type": "code",
   "execution_count": 71,
   "id": "4b366c62-408a-4511-b5b5-b54eb411bea6",
   "metadata": {},
   "outputs": [],
   "source": [
    "y_pred = np.array(y_pred > .5, dtype='float') * 4 \n",
    "y_true = m_lstm1.y_test[:len(y_pred)].values * 4\n",
    "indicadores_lstm1 = gerar_indicadores(y_true, y_pred)"
   ]
  },
  {
   "cell_type": "markdown",
   "id": "98da3d4f-d805-43f5-a995-8226fcb7f500",
   "metadata": {},
   "source": [
    "##### Análise das métricas"
   ]
  },
  {
   "cell_type": "code",
   "execution_count": 72,
   "id": "1d6ef8f8-8786-43da-abd3-4c9adc91df55",
   "metadata": {},
   "outputs": [
    {
     "name": "stdout",
     "output_type": "stream",
     "text": [
      "Acurácia:\t0.5020833333333333\n",
      "Precisão:\t0.5013448090371168\n",
      "Recall:\t\t0.9698231009365245\n",
      "Score F1:\t0.6609929078014185\n"
     ]
    }
   ],
   "source": [
    "printar_indicadores(indicadores_lstm1)"
   ]
  },
  {
   "cell_type": "code",
   "execution_count": null,
   "id": "f1d9b023-b3b6-4c43-ac93-4f5e3394aee9",
   "metadata": {},
   "outputs": [],
   "source": []
  }
 ],
 "metadata": {
  "kernelspec": {
   "display_name": "iesb_venv",
   "language": "python",
   "name": "iesb_venv"
  },
  "language_info": {
   "codemirror_mode": {
    "name": "ipython",
    "version": 3
   },
   "file_extension": ".py",
   "mimetype": "text/x-python",
   "name": "python",
   "nbconvert_exporter": "python",
   "pygments_lexer": "ipython3",
   "version": "3.8.10"
  }
 },
 "nbformat": 4,
 "nbformat_minor": 5
}
